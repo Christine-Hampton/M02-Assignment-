{
 "cells": [
  {
   "cell_type": "code",
   "execution_count": null,
   "id": "1749ce55-f3a9-4f63-87b9-711045eb183e",
   "metadata": {},
   "outputs": [],
   "source": [
    "# 4.1 Choose a number between 1 and 10 and assign it to secret\n",
    "secret = 7"
   ]
  },
  {
   "cell_type": "code",
   "execution_count": 3,
   "id": "2edc96a6-6179-4ef3-a976-04e02ea66d76",
   "metadata": {},
   "outputs": [],
   "source": [
    "# Chosse a number between 1 and 10 and assign it to guess\n",
    "guess = 4"
   ]
  },
  {
   "cell_type": "code",
   "execution_count": 5,
   "id": "59322a3f-8238-4e17-8b4e-d994fd6280ba",
   "metadata": {},
   "outputs": [
    {
     "name": "stdout",
     "output_type": "stream",
     "text": [
      "too low\n"
     ]
    }
   ],
   "source": [
    "# Conditional tests\n",
    "if guess < secret:\n",
    "    print('too low')\n",
    "elif guess > secrt:\n",
    "    print('too high')\n",
    "else:\n",
    "    print('just right')"
   ]
  },
  {
   "cell_type": "code",
   "execution_count": 9,
   "id": "392ce937-71d2-4b1b-b554-23407cab4ae2",
   "metadata": {},
   "outputs": [],
   "source": [
    "# 4.2 Assign True or False to small and green\n",
    "small = True\n",
    "green = False \n"
   ]
  },
  {
   "cell_type": "code",
   "execution_count": 11,
   "id": "e28a6f62-9e82-4bfb-89fc-af2dc9e27c71",
   "metadata": {},
   "outputs": [
    {
     "name": "stdout",
     "output_type": "stream",
     "text": [
      "cherry\n"
     ]
    }
   ],
   "source": [
    "# conditional statements to match fruits/vegetables \n",
    "if small and green:\n",
    "    print('pea')\n",
    "elif small and not green:\n",
    "    print('cherry')\n",
    "elif not small and green:\n",
    "    print('watermelon')\n",
    "else: \n",
    "    print('pumpkin')"
   ]
  },
  {
   "cell_type": "code",
   "execution_count": 13,
   "id": "20ca1f2e-71a2-4195-af24-2d0105317e8f",
   "metadata": {},
   "outputs": [
    {
     "name": "stdout",
     "output_type": "stream",
     "text": [
      "3\n",
      "2\n",
      "1\n",
      "0\n"
     ]
    }
   ],
   "source": [
    "# 6.1 Use a for loop to print the values of the list [ 3, 2, 1, 0]\n",
    "values = [3, 2, 1, 0]\n",
    "for value in values:\n",
    "    print(value)"
   ]
  },
  {
   "cell_type": "code",
   "execution_count": null,
   "id": "06137b71-7ae5-41b1-8fd3-380c80269e53",
   "metadata": {},
   "outputs": [],
   "source": [
    "# 6.2 Assign the value 7 to the variable guess_me, \n",
    "# and the value 1 to the variable number \n",
    "guess_me = 7\n",
    "number = 1\n",
    "# while loop to compare number with guess_me:\n",
    "while True:\n",
    "    if number < guess_me:\n",
    "        print('too low')\n",
    "    elif number == guess_me:\n",
    "        print('found it!')\n",
    "        break\n",
    "    else:\n",
    "        print('oops')\n",
    "        break\n",
    "    number += 1"
   ]
  },
  {
   "cell_type": "code",
   "execution_count": null,
   "id": "45445db6-2b16-4028-8d6e-a3717cc1ce80",
   "metadata": {},
   "outputs": [],
   "source": [
    "# 63 Assign the value 5 to the variable guess_me \n",
    "guess_me = 5\n",
    "# For loop to iterate number over range(10)\n",
    "for number in range(10):\n",
    "    if number < guess_me:\n",
    "        print('too low')\n",
    "    elif number == guess_me:\n",
    "        print('found it!') \n",
    "         break\n",
    "    else:\n",
    "        print('oops')\n",
    "        break"
   ]
  },
  {
   "cell_type": "code",
   "execution_count": null,
   "id": "9c20740d-1a6e-40ee-af66-0b803fdbab92",
   "metadata": {},
   "outputs": [],
   "source": []
  }
 ],
 "metadata": {
  "kernelspec": {
   "display_name": "Python 3 (ipykernel)",
   "language": "python",
   "name": "python3"
  },
  "language_info": {
   "codemirror_mode": {
    "name": "ipython",
    "version": 3
   },
   "file_extension": ".py",
   "mimetype": "text/x-python",
   "name": "python",
   "nbconvert_exporter": "python",
   "pygments_lexer": "ipython3",
   "version": "3.12.4"
  }
 },
 "nbformat": 4,
 "nbformat_minor": 5
}
